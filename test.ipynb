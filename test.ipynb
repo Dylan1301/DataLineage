{
 "cells": [
  {
   "cell_type": "code",
   "execution_count": 8,
   "metadata": {},
   "outputs": [],
   "source": [
    "from sqlglot import parse_one, exp\n",
    "from sqlglot.optimizer.scope import *"
   ]
  },
  {
   "cell_type": "code",
   "execution_count": 6,
   "metadata": {},
   "outputs": [
    {
     "name": "stdout",
     "output_type": "stream",
     "text": [
      "{'Table': (TABLE this: \n",
      "  (IDENTIFIER this: Table, quoted: False))}\n",
      "{'CTE': Scope<SELECT * FROM Table>, 'd': (TABLE this: \n",
      "  (IDENTIFIER this: d, quoted: False))}\n",
      "{'CTE': Scope<SELECT * FROM Table>, 'tmp': Scope<SELECT a, b FROM d>, 'c': Scope<SELECT * FROM Table>}\n"
     ]
    }
   ],
   "source": [
    "\n",
    "\n",
    "\n",
    "for a in traverse_scope(object):\n",
    "    print(a.sources)"
   ]
  },
  {
   "cell_type": "code",
   "execution_count": 4,
   "metadata": {},
   "outputs": [
    {
     "name": "stdout",
     "output_type": "stream",
     "text": [
      "(SELECT expressions: \n",
      "  (COLUMN this: \n",
      "    (IDENTIFIER this: cola, quoted: False)), \n",
      "  (ALIAS this: \n",
      "    (ADD this: \n",
      "      (COLUMN this: \n",
      "        (IDENTIFIER this: colb, quoted: False)), expression: \n",
      "      (LITERAL this: 1, is_string: False)), alias: \n",
      "    (IDENTIFIER this: c, quoted: False)), from: \n",
      "  (FROM this: \n",
      "    (SUBQUERY this: \n",
      "      (SELECT expressions: \n",
      "        (COLUMN this: \n",
      "          (IDENTIFIER this: a, quoted: False)), \n",
      "        (COLUMN this: \n",
      "          (IDENTIFIER this: b, quoted: False)), from: \n",
      "        (FROM this: \n",
      "          (TABLE this: \n",
      "            (IDENTIFIER this: d, quoted: False)))), alias: \n",
      "      (TABLEALIAS this: \n",
      "        (IDENTIFIER this: tmp, quoted: False)))), joins: \n",
      "  (JOIN this: \n",
      "    (TABLE this: \n",
      "      (IDENTIFIER this: CTE, quoted: False), alias: \n",
      "      (TABLEALIAS this: \n",
      "        (IDENTIFIER this: c, quoted: False))), kind: INNER, on: \n",
      "    (EQ this: \n",
      "      (COLUMN this: \n",
      "        (IDENTIFIER this: cola, quoted: False), table: \n",
      "        (IDENTIFIER this: tmp, quoted: False)), expression: \n",
      "      (COLUMN this: \n",
      "        (IDENTIFIER this: colb, quoted: False), table: \n",
      "        (IDENTIFIER this: c, quoted: False)))), where: \n",
      "  (WHERE this: \n",
      "    (NEQ this: \n",
      "      (COLUMN this: \n",
      "        (IDENTIFIER this: cola, quoted: False), table: \n",
      "        (IDENTIFIER this: tmp, quoted: False)), expression: \n",
      "      (LITERAL this: A, is_string: True))), with: \n",
      "  (WITH expressions: \n",
      "    (CTE this: \n",
      "      (SELECT expressions: \n",
      "        (STAR ), from: \n",
      "        (FROM this: \n",
      "          (TABLE this: \n",
      "            (IDENTIFIER this: Table, quoted: False)))), alias: \n",
      "      (TABLEALIAS this: \n",
      "        (IDENTIFIER this: CTE, quoted: False)))))\n"
     ]
    }
   ],
   "source": [
    "print(repr(object))"
   ]
  },
  {
   "cell_type": "code",
   "execution_count": 7,
   "metadata": {},
   "outputs": [
    {
     "name": "stdout",
     "output_type": "stream",
     "text": [
      "(SELECT expressions: \n",
      "  (COLUMN this: \n",
      "    (IDENTIFIER this: colA, quoted: False)), \n",
      "  (COLUMN this: \n",
      "    (IDENTIFIER this: colb, quoted: False)), from: \n",
      "  (FROM this: \n",
      "    (TABLE this: \n",
      "      (IDENTIFIER this: table, quoted: False))), where: \n",
      "  (WHERE this: \n",
      "    (NEQ this: \n",
      "      (COLUMN this: \n",
      "        (IDENTIFIER this: cola, quoted: False)), expression: \n",
      "      (LITERAL this: 1, is_string: False))))\n"
     ]
    }
   ],
   "source": [
    "9print(repr(ast_2))"
   ]
  },
  {
   "cell_type": "code",
   "execution_count": 27,
   "metadata": {},
   "outputs": [],
   "source": [
    "ast_2 = build_scope(parse_one(\"\"\"\n",
    "                              \n",
    "\n",
    "\n",
    "SELECT colA, colb FROM table t\n",
    "\n",
    "  inner join (select id from tablea) a\n",
    "                              on t.id  = a.id\n",
    "                              \n",
    "                               WHERE cola <> 1\n",
    "\n",
    "\n",
    "\"\"\"))"
   ]
  },
  {
   "cell_type": "code",
   "execution_count": 216,
   "metadata": {},
   "outputs": [],
   "source": [
    "object = parse_one(\"\"\"\n",
    "                   WITH CTE \n",
    "                   AS (SELECT cola as id FROM Table \n",
    "                   )\n",
    "                   \n",
    "                   SELECT cola, colb  AS newName, colc as NewName2 FROM (SELECT cola as cola2, colb FROM tabled) tmp\n",
    "                   \n",
    "                   INNER JOIN CTE cte\n",
    "                   ON tmp.cola= cte.id\n",
    "                   \n",
    "                    where tmp.cola <> 'A'\n",
    "                   \n",
    "                   \n",
    "                   \"\"\")\n"
   ]
  },
  {
   "cell_type": "code",
   "execution_count": 217,
   "metadata": {},
   "outputs": [],
   "source": [
    "scope_ast = build_scope(object)"
   ]
  },
  {
   "cell_type": "code",
   "execution_count": 219,
   "metadata": {},
   "outputs": [
    {
     "data": {
      "text/plain": [
       "(COLUMN this: \n",
       "  (IDENTIFIER this: colb, quoted: False))"
      ]
     },
     "execution_count": 219,
     "metadata": {},
     "output_type": "execute_result"
    }
   ],
   "source": [
    "\n",
    "scope_ast.unqualified_columns[1]"
   ]
  },
  {
   "cell_type": "code",
   "execution_count": 172,
   "metadata": {},
   "outputs": [
    {
     "data": {
      "text/plain": [
       "[]"
      ]
     },
     "execution_count": 172,
     "metadata": {},
     "output_type": "execute_result"
    }
   ],
   "source": [
    "scope_ast.join_hints"
   ]
  },
  {
   "cell_type": "code",
   "execution_count": 235,
   "metadata": {},
   "outputs": [],
   "source": [
    "item = list(find_all_in_scope(scope_ast, exp.Alias))[0]\n",
    "item2  = scope_ast.external_columns[1]"
   ]
  },
  {
   "cell_type": "code",
   "execution_count": 240,
   "metadata": {},
   "outputs": [
    {
     "data": {
      "text/plain": [
       "''"
      ]
     },
     "execution_count": 240,
     "metadata": {},
     "output_type": "execute_result"
    }
   ],
   "source": [
    "item1 = item.find(exp.Column)\n",
    "\n"
   ]
  },
  {
   "cell_type": "code",
   "execution_count": 249,
   "metadata": {},
   "outputs": [
    {
     "data": {
      "text/plain": [
       "True"
      ]
     },
     "execution_count": 249,
     "metadata": {},
     "output_type": "execute_result"
    }
   ],
   "source": [
    "isinstance(scope_ast.expression, exp.Select)"
   ]
  },
  {
   "cell_type": "code",
   "execution_count": 170,
   "metadata": {},
   "outputs": [
    {
     "name": "stdout",
     "output_type": "stream",
     "text": [
      "[(COLUMN this: \n",
      "  (IDENTIFIER this: cola, quoted: False)), (ALIAS this: \n",
      "  (COLUMN this: \n",
      "    (IDENTIFIER this: colb, quoted: False)), alias: \n",
      "  (IDENTIFIER this: newName, quoted: False))]\n"
     ]
    }
   ],
   "source": [
    "for select in scope_ast.find_all(exp.Select):\n",
    "    print(select.expressions)\n"
   ]
  }
 ],
 "metadata": {
  "kernelspec": {
   "display_name": "base",
   "language": "python",
   "name": "python3"
  },
  "language_info": {
   "codemirror_mode": {
    "name": "ipython",
    "version": 3
   },
   "file_extension": ".py",
   "mimetype": "text/x-python",
   "name": "python",
   "nbconvert_exporter": "python",
   "pygments_lexer": "ipython3",
   "version": "3.8.5"
  }
 },
 "nbformat": 4,
 "nbformat_minor": 2
}

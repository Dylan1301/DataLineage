{
 "cells": [
  {
   "cell_type": "code",
   "execution_count": 2,
   "metadata": {},
   "outputs": [],
   "source": [
    "from sqlglot import parse_one, exp\n",
    "from sqlglot.optimizer.scope import *"
   ]
  },
  {
   "cell_type": "code",
   "execution_count": 3,
   "metadata": {},
   "outputs": [],
   "source": [
    "\n",
    "\n",
    "for a in traverse_scope(object):\n",
    "    print(a.sources)"
   ]
  },
  {
   "cell_type": "code",
   "execution_count": 4,
   "metadata": {},
   "outputs": [
    {
     "name": "stdout",
     "output_type": "stream",
     "text": [
      "<class 'object'>\n"
     ]
    }
   ],
   "source": [
    "print(repr(object))"
   ]
  },
  {
   "cell_type": "code",
   "execution_count": 5,
   "metadata": {},
   "outputs": [],
   "source": [
    "ast_2 = build_scope(parse_one(\"\"\"\n",
    "                              \n",
    "\n",
    "\n",
    "SELECT colA, colb FROM table t\n",
    "\n",
    "  inner join (select id from tablea) a\n",
    "                              on t.id  = a.id\n",
    "                              \n",
    "                               WHERE cola <> 1\n",
    "\n",
    "\n",
    "\"\"\"))"
   ]
  },
  {
   "cell_type": "code",
   "execution_count": 12,
   "metadata": {},
   "outputs": [
    {
     "data": {
      "text/plain": [
       "(SELECT expressions: \n",
       "  (COLUMN this: \n",
       "    (IDENTIFIER this: colA, quoted: False)), \n",
       "  (COLUMN this: \n",
       "    (IDENTIFIER this: colb, quoted: False)), from: \n",
       "  (FROM this: \n",
       "    (TABLE this: \n",
       "      (IDENTIFIER this: table, quoted: False), alias: \n",
       "      (TABLEALIAS this: \n",
       "        (IDENTIFIER this: t, quoted: False)))), joins: \n",
       "  (JOIN this: \n",
       "    (SUBQUERY this: \n",
       "      (SELECT expressions: \n",
       "        (COLUMN this: \n",
       "          (IDENTIFIER this: id, quoted: False)), from: \n",
       "        (FROM this: \n",
       "          (TABLE this: \n",
       "            (IDENTIFIER this: tablea, quoted: False)))), alias: \n",
       "      (TABLEALIAS this: \n",
       "        (IDENTIFIER this: a, quoted: False))), kind: inner, on: \n",
       "    (EQ this: \n",
       "      (COLUMN this: \n",
       "        (IDENTIFIER this: id, quoted: False), table: \n",
       "        (IDENTIFIER this: t, quoted: False)), expression: \n",
       "      (COLUMN this: \n",
       "        (IDENTIFIER this: id, quoted: False), table: \n",
       "        (IDENTIFIER this: a, quoted: False)))), where: \n",
       "  (WHERE this: \n",
       "    (NEQ this: \n",
       "      (COLUMN this: \n",
       "        (IDENTIFIER this: cola, quoted: False)), expression: \n",
       "      (LITERAL this: 1, is_string: False))))"
      ]
     },
     "execution_count": 12,
     "metadata": {},
     "output_type": "execute_result"
    }
   ],
   "source": [
    "ast_2.expression"
   ]
  },
  {
   "cell_type": "code",
   "execution_count": 33,
   "metadata": {},
   "outputs": [],
   "source": [
    "object = parse_one(\"\"\"\n",
    "                   WITH CTE \n",
    "                   AS (SELECT cola as id FROM Table \n",
    "                   )\n",
    "                   \n",
    "                   SELECT cte.cola, colb + cold  AS newName, colc as NewName2, cola + colc FROM (SELECT cola as cola2, colb FROM tabled) tmp\n",
    "                   \n",
    "                   INNER JOIN CTE cte\n",
    "                   ON tmp.cola= cte.id\n",
    "                   \n",
    "                    where tmp.cola <> 'A'\n",
    "                   \n",
    "                   \n",
    "                   \"\"\")\n"
   ]
  },
  {
   "cell_type": "code",
   "execution_count": 34,
   "metadata": {},
   "outputs": [],
   "source": [
    "scope_ast = build_scope(object)"
   ]
  },
  {
   "cell_type": "code",
   "execution_count": 11,
   "metadata": {},
   "outputs": [
    {
     "data": {
      "text/plain": [
       "Scope<WITH CTE AS (SELECT cola AS id FROM Table) SELECT cte.cola, colb + cold AS newName, colc AS NewName2 FROM (SELECT cola AS cola2, colb FROM tabled) AS tmp INNER JOIN CTE AS cte ON tmp.cola = cte.id WHERE tmp.cola <> 'A'>"
      ]
     },
     "execution_count": 11,
     "metadata": {},
     "output_type": "execute_result"
    }
   ],
   "source": [
    "scope_ast."
   ]
  },
  {
   "cell_type": "code",
   "execution_count": 9,
   "metadata": {},
   "outputs": [
    {
     "data": {
      "text/plain": [
       "[(COLUMN this: \n",
       "   (IDENTIFIER this: colb, quoted: False)),\n",
       " (COLUMN this: \n",
       "   (IDENTIFIER this: cold, quoted: False)),\n",
       " (COLUMN this: \n",
       "   (IDENTIFIER this: colc, quoted: False))]"
      ]
     },
     "execution_count": 9,
     "metadata": {},
     "output_type": "execute_result"
    }
   ],
   "source": [
    "scope_ast.external_columns\n"
   ]
  },
  {
   "cell_type": "code",
   "execution_count": 62,
   "metadata": {},
   "outputs": [
    {
     "data": {
      "text/plain": [
       "[(ALIAS this: \n",
       "   (ADD this: \n",
       "     (COLUMN this: \n",
       "       (IDENTIFIER this: colb, quoted: False)), expression: \n",
       "     (COLUMN this: \n",
       "       (IDENTIFIER this: cold, quoted: False))), alias: \n",
       "   (IDENTIFIER this: newName, quoted: False)),\n",
       " (ALIAS this: \n",
       "   (COLUMN this: \n",
       "     (IDENTIFIER this: colc, quoted: False)), alias: \n",
       "   (IDENTIFIER this: NewName2, quoted: False))]"
      ]
     },
     "execution_count": 62,
     "metadata": {},
     "output_type": "execute_result"
    }
   ],
   "source": [
    "\n",
    "list(find_all_in_scope(scope_ast, exp.Alias))"
   ]
  },
  {
   "cell_type": "code",
   "execution_count": 35,
   "metadata": {},
   "outputs": [
    {
     "data": {
      "text/plain": [
       "'newName'"
      ]
     },
     "execution_count": 35,
     "metadata": {},
     "output_type": "execute_result"
    }
   ],
   "source": [
    "# for x in scope_ast.expression.selects:\n",
    "#     print(repr(x))\n",
    "#     print(x.find_all(exp.Column))\n",
    "#     print(x.alias)\n",
    "#     print(x.alias_column_names)\n",
    "\n",
    "scope_ast.expression.selects[1].alias"
   ]
  },
  {
   "cell_type": "code",
   "execution_count": 87,
   "metadata": {},
   "outputs": [
    {
     "data": {
      "text/plain": [
       "{'CTE': Scope<SELECT cola AS id FROM Table>,\n",
       " 'tmp': Scope<SELECT cola AS cola2, colb FROM tabled>,\n",
       " 'cte': Scope<SELECT cola AS id FROM Table>}"
      ]
     },
     "execution_count": 87,
     "metadata": {},
     "output_type": "execute_result"
    }
   ],
   "source": [
    "scope_ast.sources"
   ]
  },
  {
   "cell_type": "code",
   "execution_count": 94,
   "metadata": {},
   "outputs": [
    {
     "data": {
      "text/plain": [
       "[(COLUMN this: \n",
       "   (IDENTIFIER this: cola, quoted: False))]"
      ]
     },
     "execution_count": 94,
     "metadata": {},
     "output_type": "execute_result"
    }
   ],
   "source": [
    "scope_ast.sources['CTE'].columns"
   ]
  },
  {
   "cell_type": "code",
   "execution_count": 39,
   "metadata": {},
   "outputs": [
    {
     "ename": "AttributeError",
     "evalue": "'Column' object has no attribute 'Column'",
     "output_type": "error",
     "traceback": [
      "\u001b[1;31m---------------------------------------------------------------------------\u001b[0m",
      "\u001b[1;31mAttributeError\u001b[0m                            Traceback (most recent call last)",
      "\u001b[1;32m<ipython-input-39-0e73a4b603e2>\u001b[0m in \u001b[0;36m<module>\u001b[1;34m\u001b[0m\n\u001b[0;32m      2\u001b[0m \u001b[1;31m# Ti cau select trong ast\u001b[0m\u001b[1;33m\u001b[0m\u001b[1;33m\u001b[0m\u001b[1;33m\u001b[0m\u001b[0m\n\u001b[0;32m      3\u001b[0m \u001b[0mselects\u001b[0m \u001b[1;33m=\u001b[0m \u001b[0mscope_ast\u001b[0m\u001b[1;33m.\u001b[0m\u001b[0mexpression\u001b[0m\u001b[1;33m.\u001b[0m\u001b[0mselects\u001b[0m\u001b[1;33m\u001b[0m\u001b[1;33m\u001b[0m\u001b[0m\n\u001b[1;32m----> 4\u001b[1;33m \u001b[0mselects\u001b[0m\u001b[1;33m[\u001b[0m\u001b[1;36m0\u001b[0m\u001b[1;33m]\u001b[0m\u001b[1;33m.\u001b[0m\u001b[0mColumn\u001b[0m\u001b[1;33m\u001b[0m\u001b[1;33m\u001b[0m\u001b[0m\n\u001b[0m",
      "\u001b[1;31mAttributeError\u001b[0m: 'Column' object has no attribute 'Column'"
     ]
    }
   ],
   "source": [
    "# Get Select part\n",
    "# Ti cau select trong ast\n",
    "selects = scope_ast.expression.selects\n",
    "selects[0]."
   ]
  },
  {
   "cell_type": "code",
   "execution_count": 56,
   "metadata": {},
   "outputs": [
    {
     "data": {
      "text/plain": [
       "{'CTE': Scope<SELECT cola AS id FROM Table>,\n",
       " 'tmp': Scope<SELECT cola AS cola2, colb FROM tabled>,\n",
       " 'cte': Scope<SELECT cola AS id FROM Table>}"
      ]
     },
     "execution_count": 56,
     "metadata": {},
     "output_type": "execute_result"
    }
   ],
   "source": [
    "scope_ast.sources"
   ]
  },
  {
   "cell_type": "code",
   "execution_count": 58,
   "metadata": {},
   "outputs": [
    {
     "data": {
      "text/plain": [
       "[(COLUMN this: \n",
       "   (IDENTIFIER this: cola, quoted: False)),\n",
       " (COLUMN this: \n",
       "   (IDENTIFIER this: colc, quoted: False)),\n",
       " (COLUMN this: \n",
       "   (IDENTIFIER this: colb, quoted: False)),\n",
       " (COLUMN this: \n",
       "   (IDENTIFIER this: cold, quoted: False)),\n",
       " (COLUMN this: \n",
       "   (IDENTIFIER this: cola, quoted: False), table: \n",
       "   (IDENTIFIER this: tmp, quoted: False)),\n",
       " (COLUMN this: \n",
       "   (IDENTIFIER this: id, quoted: False), table: \n",
       "   (IDENTIFIER this: cte, quoted: False)),\n",
       " (COLUMN this: \n",
       "   (IDENTIFIER this: cola, quoted: False), table: \n",
       "   (IDENTIFIER this: tmp, quoted: False))]"
      ]
     },
     "execution_count": 58,
     "metadata": {},
     "output_type": "execute_result"
    }
   ],
   "source": [
    "list(find_all_in_scope(scope_ast,exp.Column))"
   ]
  },
  {
   "cell_type": "code",
   "execution_count": 6,
   "metadata": {},
   "outputs": [
    {
     "ename": "AttributeError",
     "evalue": "'NoneType' object has no attribute 'unqualified_columns'",
     "output_type": "error",
     "traceback": [
      "\u001b[1;31m---------------------------------------------------------------------------\u001b[0m",
      "\u001b[1;31mAttributeError\u001b[0m                            Traceback (most recent call last)",
      "\u001b[1;32m<ipython-input-6-acd3219e46d7>\u001b[0m in \u001b[0;36m<module>\u001b[1;34m\u001b[0m\n\u001b[1;32m----> 1\u001b[1;33m \u001b[0mscope_ast\u001b[0m\u001b[1;33m.\u001b[0m\u001b[0munqualified_columns\u001b[0m\u001b[1;33m[\u001b[0m\u001b[1;36m1\u001b[0m\u001b[1;33m]\u001b[0m\u001b[1;33m\u001b[0m\u001b[1;33m\u001b[0m\u001b[0m\n\u001b[0m",
      "\u001b[1;31mAttributeError\u001b[0m: 'NoneType' object has no attribute 'unqualified_columns'"
     ]
    }
   ],
   "source": [
    "\n",
    "scope_ast.unqualified_columns[1]"
   ]
  },
  {
   "cell_type": "code",
   "execution_count": null,
   "metadata": {},
   "outputs": [
    {
     "data": {
      "text/plain": [
       "[]"
      ]
     },
     "execution_count": 126,
     "metadata": {},
     "output_type": "execute_result"
    }
   ],
   "source": [
    "scope_ast.join_hints"
   ]
  },
  {
   "cell_type": "code",
   "execution_count": null,
   "metadata": {},
   "outputs": [],
   "source": [
    "item = list(find_all_in_scope(scope_ast, exp.Alias))[0]\n",
    "item2  = scope_ast.external_columns[1]"
   ]
  },
  {
   "cell_type": "code",
   "execution_count": 27,
   "metadata": {},
   "outputs": [
    {
     "ename": "NameError",
     "evalue": "name 'item' is not defined",
     "output_type": "error",
     "traceback": [
      "\u001b[1;31m---------------------------------------------------------------------------\u001b[0m",
      "\u001b[1;31mNameError\u001b[0m                                 Traceback (most recent call last)",
      "\u001b[1;32m<ipython-input-27-901d72dd37ac>\u001b[0m in \u001b[0;36m<module>\u001b[1;34m\u001b[0m\n\u001b[1;32m----> 1\u001b[1;33m \u001b[0mitem1\u001b[0m \u001b[1;33m=\u001b[0m \u001b[0mitem\u001b[0m\u001b[1;33m.\u001b[0m\u001b[0mfind\u001b[0m\u001b[1;33m\u001b[0m\u001b[1;33m\u001b[0m\u001b[0m\n\u001b[0m\u001b[0;32m      2\u001b[0m \u001b[1;33m\u001b[0m\u001b[0m\n\u001b[0;32m      3\u001b[0m \u001b[0mitem1\u001b[0m\u001b[1;33m\u001b[0m\u001b[1;33m\u001b[0m\u001b[0m\n\u001b[0;32m      4\u001b[0m \u001b[1;33m\u001b[0m\u001b[0m\n",
      "\u001b[1;31mNameError\u001b[0m: name 'item' is not defined"
     ]
    }
   ],
   "source": [
    "item1 = item.find\n",
    "\n",
    "item1\n",
    "\n"
   ]
  },
  {
   "cell_type": "code",
   "execution_count": null,
   "metadata": {},
   "outputs": [
    {
     "data": {
      "text/plain": [
       "True"
      ]
     },
     "execution_count": 249,
     "metadata": {},
     "output_type": "execute_result"
    }
   ],
   "source": [
    "isinstance(scope_ast.expression, exp.Select)"
   ]
  },
  {
   "cell_type": "code",
   "execution_count": null,
   "metadata": {},
   "outputs": [
    {
     "name": "stdout",
     "output_type": "stream",
     "text": [
      "[(COLUMN this: \n",
      "  (IDENTIFIER this: cola, quoted: False)), (ALIAS this: \n",
      "  (COLUMN this: \n",
      "    (IDENTIFIER this: colb, quoted: False)), alias: \n",
      "  (IDENTIFIER this: newName, quoted: False))]\n"
     ]
    }
   ],
   "source": [
    "for select in scope_ast.find_all(exp.Select):\n",
    "    print(select.expressions)\n"
   ]
  }
 ],
 "metadata": {
  "kernelspec": {
   "display_name": "base",
   "language": "python",
   "name": "python3"
  },
  "language_info": {
   "codemirror_mode": {
    "name": "ipython",
    "version": 3
   },
   "file_extension": ".py",
   "mimetype": "text/x-python",
   "name": "python",
   "nbconvert_exporter": "python",
   "pygments_lexer": "ipython3",
   "version": "3.8.5"
  }
 },
 "nbformat": 4,
 "nbformat_minor": 2
}

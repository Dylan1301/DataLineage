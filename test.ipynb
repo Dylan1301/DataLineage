{
 "cells": [
  {
   "cell_type": "code",
   "execution_count": 27,
   "metadata": {},
   "outputs": [],
   "source": [
    "from sqlglot import parse_one, exp\n",
    "from sqlglot.optimizer.scope import *\n",
    "from sqlglot.optimizer import qualify\n"
   ]
  },
  {
   "cell_type": "code",
   "execution_count": 2,
   "metadata": {},
   "outputs": [],
   "source": [
    "\n",
    "\n",
    "for a in traverse_scope(object):\n",
    "    print(a.sources)"
   ]
  },
  {
   "cell_type": "code",
   "execution_count": 3,
   "metadata": {},
   "outputs": [
    {
     "name": "stdout",
     "output_type": "stream",
     "text": [
      "<class 'object'>\n"
     ]
    }
   ],
   "source": [
    "print(repr(object))"
   ]
  },
  {
   "cell_type": "code",
   "execution_count": 4,
   "metadata": {},
   "outputs": [],
   "source": [
    "ast_2 = build_scope(parse_one(\"\"\"\n",
    "                              \n",
    "\n",
    "\n",
    "SELECT colA, colb FROM table t\n",
    "\n",
    "  inner join (select id from tablea) a\n",
    "                              on t.id  = a.id\n",
    "                              \n",
    "                               WHERE cola <> 1\n",
    "\n",
    "\n",
    "\"\"\"))"
   ]
  },
  {
   "cell_type": "code",
   "execution_count": 31,
   "metadata": {},
   "outputs": [
    {
     "name": "stdout",
     "output_type": "stream",
     "text": [
      "sa\n"
     ]
    }
   ],
   "source": [
    "ast_3 = build_scope(parse_one(\"\"\"\n",
    "                              \n",
    "\n",
    "\n",
    "select cola, colb from table\n",
    "Union\n",
    "select col1, col2 from table2\n",
    "\n",
    "\n",
    "\"\"\"))\n",
    "\n",
    "source2= ast_3.union_scopes \n",
    "if source2:\n",
    "    print(\"sa\")"
   ]
  },
  {
   "cell_type": "code",
   "execution_count": 32,
   "metadata": {},
   "outputs": [
    {
     "name": "stdout",
     "output_type": "stream",
     "text": [
      "a\n",
      "b\n",
      "c\n"
     ]
    },
    {
     "ename": "",
     "evalue": "",
     "output_type": "error",
     "traceback": [
      "\u001b[1;31mThe Kernel crashed while executing code in the the current cell or a previous cell. Please review the code in the cell(s) to identify a possible cause of the failure. Click <a href='https://aka.ms/vscodeJupyterKernelCrash'>here</a> for more info. View Jupyter <a href='command:jupyter.viewOutput'>log</a> for further details."
     ]
    }
   ],
   "source": [
    "queue = ['a', 'b', 'c']\n",
    "\n",
    "while len(queue) > 0:\n",
    "    print(queue.pop(0))\n"
   ]
  },
  {
   "cell_type": "code",
   "execution_count": 16,
   "metadata": {},
   "outputs": [
    {
     "data": {
      "text/plain": [
       "['t', 'a']"
      ]
     },
     "execution_count": 16,
     "metadata": {},
     "output_type": "execute_result"
    }
   ],
   "source": [
    "[a for a, i in ast_2.sources.items()]"
   ]
  },
  {
   "cell_type": "code",
   "execution_count": 21,
   "metadata": {},
   "outputs": [
    {
     "data": {
      "text/plain": [
       "{'t': (TABLE this: \n",
       "   (IDENTIFIER this: table, quoted: False), alias: \n",
       "   (TABLEALIAS this: \n",
       "     (IDENTIFIER this: t, quoted: False))),\n",
       " 'a': Scope<SELECT id FROM tablea>}"
      ]
     },
     "execution_count": 21,
     "metadata": {},
     "output_type": "execute_result"
    }
   ],
   "source": [
    "sources = ast_2.sources\n",
    "\n",
    "sources"
   ]
  },
  {
   "cell_type": "code",
   "execution_count": 201,
   "metadata": {},
   "outputs": [
    {
     "ename": "AttributeError",
     "evalue": "'NoneType' object has no attribute 'selects'",
     "output_type": "error",
     "traceback": [
      "\u001b[1;31m---------------------------------------------------------------------------\u001b[0m",
      "\u001b[1;31mAttributeError\u001b[0m                            Traceback (most recent call last)",
      "\u001b[1;32m<ipython-input-201-c7e8ebcdcd9a>\u001b[0m in \u001b[0;36m<module>\u001b[1;34m\u001b[0m\n\u001b[1;32m----> 1\u001b[1;33m \u001b[0mlist\u001b[0m\u001b[1;33m(\u001b[0m\u001b[0msource\u001b[0m\u001b[1;33m)\u001b[0m\u001b[1;33m\u001b[0m\u001b[1;33m\u001b[0m\u001b[0m\n\u001b[0m",
      "\u001b[1;32m<ipython-input-200-e585e70b35d8>\u001b[0m in \u001b[0;36m<genexpr>\u001b[1;34m(.0)\u001b[0m\n\u001b[0;32m      1\u001b[0m \u001b[0msources\u001b[0m \u001b[1;33m=\u001b[0m \u001b[0mast_2\u001b[0m\u001b[1;33m.\u001b[0m\u001b[0msources\u001b[0m\u001b[1;33m\u001b[0m\u001b[1;33m\u001b[0m\u001b[0m\n\u001b[0;32m      2\u001b[0m \u001b[1;33m\u001b[0m\u001b[0m\n\u001b[1;32m----> 3\u001b[1;33m source = ((select for select in v.expression.selects if select.alias_or_name== 'a') \n\u001b[0m\u001b[0;32m      4\u001b[0m             \u001b[1;32mfor\u001b[0m \u001b[0mk\u001b[0m\u001b[1;33m,\u001b[0m\u001b[0mv\u001b[0m \u001b[1;32min\u001b[0m \u001b[0msources\u001b[0m\u001b[1;33m.\u001b[0m\u001b[0mitems\u001b[0m\u001b[1;33m(\u001b[0m\u001b[1;33m)\u001b[0m\u001b[1;33m\u001b[0m\u001b[1;33m\u001b[0m\u001b[0m\n\u001b[0;32m      5\u001b[0m             )\n",
      "\u001b[1;31mAttributeError\u001b[0m: 'NoneType' object has no attribute 'selects'"
     ]
    }
   ],
   "source": [
    "list(source)"
   ]
  },
  {
   "cell_type": "code",
   "execution_count": 193,
   "metadata": {},
   "outputs": [
    {
     "data": {
      "text/plain": [
       "{'tablea': (TABLE this: \n",
       "   (IDENTIFIER this: tablea, quoted: False))}"
      ]
     },
     "execution_count": 193,
     "metadata": {},
     "output_type": "execute_result"
    }
   ],
   "source": [
    "ast_2.sources['a'].sources"
   ]
  },
  {
   "cell_type": "code",
   "execution_count": 1,
   "metadata": {},
   "outputs": [
    {
     "ename": "NameError",
     "evalue": "name 'parse_one' is not defined",
     "output_type": "error",
     "traceback": [
      "\u001b[1;31m---------------------------------------------------------------------------\u001b[0m",
      "\u001b[1;31mNameError\u001b[0m                                 Traceback (most recent call last)",
      "\u001b[1;32m<ipython-input-1-ff828486ad6b>\u001b[0m in \u001b[0;36m<module>\u001b[1;34m\u001b[0m\n\u001b[1;32m----> 1\u001b[1;33m object = parse_one(\"\"\"\n\u001b[0m\u001b[0;32m      2\u001b[0m                    \u001b[0mWITH\u001b[0m \u001b[0mCTE\u001b[0m\u001b[1;33m\u001b[0m\u001b[1;33m\u001b[0m\u001b[0m\n\u001b[0;32m      3\u001b[0m                    AS (SELECT cola as id FROM Table \n\u001b[0;32m      4\u001b[0m                    )\n\u001b[0;32m      5\u001b[0m \u001b[1;33m\u001b[0m\u001b[0m\n",
      "\u001b[1;31mNameError\u001b[0m: name 'parse_one' is not defined"
     ]
    }
   ],
   "source": [
    "object = parse_one(\"\"\"\n",
    "                   WITH CTE \n",
    "                   AS (SELECT cola as id FROM Table \n",
    "                   )\n",
    "                   \n",
    "                   SELECT tmp.cola + colc as ha , colb + 1  AS newName, colc as NewName2 FROM (SELECT cola as cola2, colb FROM tabled) tmp\n",
    "                   \n",
    "                   INNER JOIN CTE cte\n",
    "                   ON tmp.cola= cte.id\n",
    "                   \n",
    "                    where tmp.cola <> 'A'\n",
    "                   \n",
    "                   \n",
    "                   \"\"\")\n"
   ]
  },
  {
   "cell_type": "code",
   "execution_count": 32,
   "metadata": {},
   "outputs": [
    {
     "data": {
      "text/plain": [
       "[(ALIAS this: \n",
       "   (COLUMN this: \n",
       "     (IDENTIFIER this: cola, quoted: True), table: \n",
       "     (IDENTIFIER this: table, quoted: True)), alias: \n",
       "   (IDENTIFIER this: cola, quoted: True)),\n",
       " (ALIAS this: \n",
       "   (COLUMN this: \n",
       "     (IDENTIFIER this: colb, quoted: True), table: \n",
       "     (IDENTIFIER this: table, quoted: True)), alias: \n",
       "   (IDENTIFIER this: colb, quoted: True))]"
      ]
     },
     "execution_count": 32,
     "metadata": {},
     "output_type": "execute_result"
    }
   ],
   "source": [
    "from lineage import *\n",
    "\n",
    "union_object = parse_one(\"\"\"\n",
    "                              \n",
    "\n",
    "\n",
    "select cola, colb from table\n",
    "Union\n",
    "select col1, col2 from table2\n",
    "\n",
    "\n",
    "\"\"\")\n",
    "\n",
    "union_object = build_scope(qualify.qualify(union_object))\n",
    "\n",
    "union_object.union_scopes[0].expression.selects\n",
    "# for column in union_object.expression.selects:\n",
    "#     node1 = build_column_node(column, scope=None, related_query=None)\n",
    "#     print(node1.downstream)\n",
    "    \n",
    "\n",
    "# for col in column1.find_all(exp.Column):\n",
    "#     print(col)"
   ]
  },
  {
   "cell_type": "code",
   "execution_count": 5,
   "metadata": {},
   "outputs": [
    {
     "data": {
      "text/plain": [
       "LineageNode(name='colb', type='alias', scope=None, related_query=(ALIAS this: \n",
       "  (COLUMN this: \n",
       "    (IDENTIFIER this: colb, quoted: True), table: \n",
       "    (IDENTIFIER this: table, quoted: True)), alias: \n",
       "  (IDENTIFIER this: colb, quoted: True)))"
      ]
     },
     "execution_count": 5,
     "metadata": {},
     "output_type": "execute_result"
    }
   ],
   "source": []
  },
  {
   "cell_type": "code",
   "execution_count": 25,
   "metadata": {},
   "outputs": [
    {
     "name": "stdout",
     "output_type": "stream",
     "text": [
      "1\n",
      "Add column to  LineageNode(name='cola', type='alias', scope=None, related_query=None)\n",
      "1\n",
      "LineageNode(name='cola', type='column', scope=None, related_query=None)\n"
     ]
    }
   ],
   "source": [
    "def build_column_node(column\n",
    "                      , scope = None, related_query=None):\n",
    "    \"\"\"\n",
    "    Build node based on input, if input column object has alias/function wrapped -> sepearated into 2 node \n",
    "\n",
    "    input: exp.Column/ exp.Alias component\n",
    "    output: LineageNode object of the column\n",
    "    \n",
    "    \"\"\"\n",
    "    internal_node = None\n",
    "    print(len(list(column.find_all(exp.Column))))\n",
    "    if column.alias == '' and len(list(column.find_all(exp.Column))) == 1:\n",
    "        # no alias found\n",
    "        internal_node = LineageNode(column.alias_or_name, type = 'column', scope=None, related_query=None)\n",
    "        print(internal_node)\n",
    "    \n",
    "    \n",
    "    else:\n",
    "        name = 'function' if column.alias == '' else column.alias\n",
    "        internal_node = LineageNode(name, type = 'alias', scope=None, related_query=None)\n",
    "        for col in column.find_all(exp.Column):\n",
    "            print(\"Add column to \", internal_node)\n",
    "            node_col = build_column_node(col, scope=None, related_query=None)\n",
    "            node_col.upstream_related.append(internal_node)\n",
    "            internal_node.downstream.append(node_col)\n",
    "\n",
    "\n",
    "    return internal_node\n",
    "\n",
    "# print(build_column_node(column1))\n",
    "# print(repr(column1))\n",
    "column1 = union_object.expression.selects[0]\n",
    "node = build_column_node(column1)\n"
   ]
  },
  {
   "cell_type": "code",
   "execution_count": 26,
   "metadata": {},
   "outputs": [
    {
     "data": {
      "text/plain": [
       "[LineageNode(name='cola', type='column', scope=None, related_query=None),\n",
       " LineageNode(name='cola', type='column', scope=None, related_query=None),\n",
       " LineageNode(name='cola', type='column', scope=None, related_query=None),\n",
       " LineageNode(name='cola', type='column', scope=None, related_query=None),\n",
       " LineageNode(name='cola', type='column', scope=None, related_query=None),\n",
       " LineageNode(name='cola', type='column', scope=None, related_query=None),\n",
       " LineageNode(name='cola', type='column', scope=None, related_query=None),\n",
       " LineageNode(name='cola', type='column', scope=None, related_query=None),\n",
       " LineageNode(name='cola', type='column', scope=None, related_query=None),\n",
       " LineageNode(name='cola', type='column', scope=None, related_query=None),\n",
       " LineageNode(name='cola', type='column', scope=None, related_query=None),\n",
       " LineageNode(name='cola', type='column', scope=None, related_query=None),\n",
       " LineageNode(name='cola', type='column', scope=None, related_query=None),\n",
       " LineageNode(name='cola', type='column', scope=None, related_query=None)]"
      ]
     },
     "execution_count": 26,
     "metadata": {},
     "output_type": "execute_result"
    }
   ],
   "source": [
    "id(node)\n",
    "node.downstream[0].downstream"
   ]
  },
  {
   "cell_type": "code",
   "execution_count": 29,
   "metadata": {},
   "outputs": [
    {
     "data": {
      "text/plain": [
       "[LineageNode(name='cola', type='column', scope=None, related_query=None),\n",
       " LineageNode(name='cola', type='column', scope=None, related_query=None),\n",
       " LineageNode(name='cola', type='column', scope=None, related_query=None),\n",
       " LineageNode(name='cola', type='column', scope=None, related_query=None),\n",
       " LineageNode(name='cola', type='column', scope=None, related_query=None),\n",
       " LineageNode(name='cola', type='column', scope=None, related_query=None),\n",
       " LineageNode(name='cola', type='column', scope=None, related_query=None),\n",
       " LineageNode(name='cola', type='column', scope=None, related_query=None),\n",
       " LineageNode(name='cola', type='column', scope=None, related_query=None),\n",
       " LineageNode(name='cola', type='column', scope=None, related_query=None),\n",
       " LineageNode(name='cola', type='column', scope=None, related_query=None),\n",
       " LineageNode(name='cola', type='column', scope=None, related_query=None),\n",
       " LineageNode(name='cola', type='column', scope=None, related_query=None),\n",
       " LineageNode(name='cola', type='column', scope=None, related_query=None)]"
      ]
     },
     "execution_count": 29,
     "metadata": {},
     "output_type": "execute_result"
    }
   ],
   "source": [
    "LineageNode(\"s\",\"a\", None, None).downstream"
   ]
  },
  {
   "cell_type": "code",
   "execution_count": 151,
   "metadata": {},
   "outputs": [],
   "source": [
    "selects = list(scope_ast.expression.selects)\n"
   ]
  },
  {
   "cell_type": "code",
   "execution_count": 187,
   "metadata": {},
   "outputs": [
    {
     "data": {
      "text/plain": [
       "sqlglot.expressions.Alias"
      ]
     },
     "execution_count": 187,
     "metadata": {},
     "output_type": "execute_result"
    }
   ],
   "source": [
    "type(selects[2])"
   ]
  },
  {
   "cell_type": "code",
   "execution_count": 162,
   "metadata": {},
   "outputs": [
    {
     "data": {
      "text/plain": [
       "(COLUMN this: \n",
       "  (IDENTIFIER this: cola, quoted: False), table: \n",
       "  (IDENTIFIER this: tmp, quoted: False))"
      ]
     },
     "execution_count": 162,
     "metadata": {},
     "output_type": "execute_result"
    }
   ],
   "source": [
    "selects[0].find(exp.Column)"
   ]
  },
  {
   "cell_type": "code",
   "execution_count": null,
   "metadata": {},
   "outputs": [],
   "source": []
  },
  {
   "cell_type": "code",
   "execution_count": 189,
   "metadata": {},
   "outputs": [
    {
     "data": {
      "text/plain": [
       "sqlglot.expressions.Column"
      ]
     },
     "execution_count": 189,
     "metadata": {},
     "output_type": "execute_result"
    }
   ],
   "source": [
    "alias = selects[0].alias\n",
    "columns = selects[0].find(exp.Column)\n",
    "columns.is_star\n",
    "     \n",
    "type(columns)\n"
   ]
  },
  {
   "cell_type": "code",
   "execution_count": null,
   "metadata": {},
   "outputs": [
    {
     "data": {
      "text/plain": [
       "'newName'"
      ]
     },
     "execution_count": 35,
     "metadata": {},
     "output_type": "execute_result"
    }
   ],
   "source": [
    "# for x in scope_ast.expression.selects:\n",
    "#     print(repr(x))\n",
    "#     print(x.find_all(exp.Column))\n",
    "#     print(x.alias)\n",
    "#     print(x.alias_column_names)\n",
    "\n",
    "scope_ast.expression.selects[1].alias"
   ]
  },
  {
   "cell_type": "code",
   "execution_count": 147,
   "metadata": {},
   "outputs": [
    {
     "data": {
      "text/plain": [
       "{'CTE': Scope<SELECT cola AS id FROM Table>,\n",
       " 'tmp': Scope<SELECT cola AS cola2, colb FROM tabled>,\n",
       " 'cte': Scope<SELECT cola AS id FROM Table>}"
      ]
     },
     "execution_count": 87,
     "metadata": {},
     "output_type": "execute_result"
    }
   ],
   "source": [
    "scope_ast.sources"
   ]
  },
  {
   "cell_type": "code",
   "execution_count": 94,
   "metadata": {},
   "outputs": [
    {
     "data": {
      "text/plain": [
       "[(COLUMN this: \n",
       "   (IDENTIFIER this: cola, quoted: False))]"
      ]
     },
     "execution_count": 94,
     "metadata": {},
     "output_type": "execute_result"
    }
   ],
   "source": [
    "scope_ast.sources['CTE'].columns"
   ]
  },
  {
   "cell_type": "code",
   "execution_count": 39,
   "metadata": {},
   "outputs": [
    {
     "ename": "AttributeError",
     "evalue": "'Column' object has no attribute 'Column'",
     "output_type": "error",
     "traceback": [
      "\u001b[1;31m---------------------------------------------------------------------------\u001b[0m",
      "\u001b[1;31mAttributeError\u001b[0m                            Traceback (most recent call last)",
      "\u001b[1;32m<ipython-input-39-0e73a4b603e2>\u001b[0m in \u001b[0;36m<module>\u001b[1;34m\u001b[0m\n\u001b[0;32m      2\u001b[0m \u001b[1;31m# Ti cau select trong ast\u001b[0m\u001b[1;33m\u001b[0m\u001b[1;33m\u001b[0m\u001b[1;33m\u001b[0m\u001b[0m\n\u001b[0;32m      3\u001b[0m \u001b[0mselects\u001b[0m \u001b[1;33m=\u001b[0m \u001b[0mscope_ast\u001b[0m\u001b[1;33m.\u001b[0m\u001b[0mexpression\u001b[0m\u001b[1;33m.\u001b[0m\u001b[0mselects\u001b[0m\u001b[1;33m\u001b[0m\u001b[1;33m\u001b[0m\u001b[0m\n\u001b[1;32m----> 4\u001b[1;33m \u001b[0mselects\u001b[0m\u001b[1;33m[\u001b[0m\u001b[1;36m0\u001b[0m\u001b[1;33m]\u001b[0m\u001b[1;33m.\u001b[0m\u001b[0mColumn\u001b[0m\u001b[1;33m\u001b[0m\u001b[1;33m\u001b[0m\u001b[0m\n\u001b[0m",
      "\u001b[1;31mAttributeError\u001b[0m: 'Column' object has no attribute 'Column'"
     ]
    }
   ],
   "source": [
    "# Get Select part\n",
    "# Ti cau select trong ast\n",
    "selects = scope_ast.expression.selects\n",
    "selects[0]."
   ]
  },
  {
   "cell_type": "code",
   "execution_count": 56,
   "metadata": {},
   "outputs": [
    {
     "data": {
      "text/plain": [
       "{'CTE': Scope<SELECT cola AS id FROM Table>,\n",
       " 'tmp': Scope<SELECT cola AS cola2, colb FROM tabled>,\n",
       " 'cte': Scope<SELECT cola AS id FROM Table>}"
      ]
     },
     "execution_count": 56,
     "metadata": {},
     "output_type": "execute_result"
    }
   ],
   "source": [
    "scope_ast.sources"
   ]
  },
  {
   "cell_type": "code",
   "execution_count": 58,
   "metadata": {},
   "outputs": [
    {
     "data": {
      "text/plain": [
       "[(COLUMN this: \n",
       "   (IDENTIFIER this: cola, quoted: False)),\n",
       " (COLUMN this: \n",
       "   (IDENTIFIER this: colc, quoted: False)),\n",
       " (COLUMN this: \n",
       "   (IDENTIFIER this: colb, quoted: False)),\n",
       " (COLUMN this: \n",
       "   (IDENTIFIER this: cold, quoted: False)),\n",
       " (COLUMN this: \n",
       "   (IDENTIFIER this: cola, quoted: False), table: \n",
       "   (IDENTIFIER this: tmp, quoted: False)),\n",
       " (COLUMN this: \n",
       "   (IDENTIFIER this: id, quoted: False), table: \n",
       "   (IDENTIFIER this: cte, quoted: False)),\n",
       " (COLUMN this: \n",
       "   (IDENTIFIER this: cola, quoted: False), table: \n",
       "   (IDENTIFIER this: tmp, quoted: False))]"
      ]
     },
     "execution_count": 58,
     "metadata": {},
     "output_type": "execute_result"
    }
   ],
   "source": [
    "list(find_all_in_scope(scope_ast,exp.Column))"
   ]
  },
  {
   "cell_type": "code",
   "execution_count": 6,
   "metadata": {},
   "outputs": [
    {
     "ename": "AttributeError",
     "evalue": "'NoneType' object has no attribute 'unqualified_columns'",
     "output_type": "error",
     "traceback": [
      "\u001b[1;31m---------------------------------------------------------------------------\u001b[0m",
      "\u001b[1;31mAttributeError\u001b[0m                            Traceback (most recent call last)",
      "\u001b[1;32m<ipython-input-6-acd3219e46d7>\u001b[0m in \u001b[0;36m<module>\u001b[1;34m\u001b[0m\n\u001b[1;32m----> 1\u001b[1;33m \u001b[0mscope_ast\u001b[0m\u001b[1;33m.\u001b[0m\u001b[0munqualified_columns\u001b[0m\u001b[1;33m[\u001b[0m\u001b[1;36m1\u001b[0m\u001b[1;33m]\u001b[0m\u001b[1;33m\u001b[0m\u001b[1;33m\u001b[0m\u001b[0m\n\u001b[0m",
      "\u001b[1;31mAttributeError\u001b[0m: 'NoneType' object has no attribute 'unqualified_columns'"
     ]
    }
   ],
   "source": [
    "\n",
    "scope_ast.unqualified_columns[1]"
   ]
  },
  {
   "cell_type": "code",
   "execution_count": null,
   "metadata": {},
   "outputs": [
    {
     "data": {
      "text/plain": [
       "[]"
      ]
     },
     "execution_count": 126,
     "metadata": {},
     "output_type": "execute_result"
    }
   ],
   "source": [
    "scope_ast.join_hints"
   ]
  },
  {
   "cell_type": "code",
   "execution_count": null,
   "metadata": {},
   "outputs": [],
   "source": [
    "item = list(find_all_in_scope(scope_ast, exp.Alias))[0]\n",
    "item2  = scope_ast.external_columns[1]"
   ]
  },
  {
   "cell_type": "code",
   "execution_count": 27,
   "metadata": {},
   "outputs": [
    {
     "ename": "NameError",
     "evalue": "name 'item' is not defined",
     "output_type": "error",
     "traceback": [
      "\u001b[1;31m---------------------------------------------------------------------------\u001b[0m",
      "\u001b[1;31mNameError\u001b[0m                                 Traceback (most recent call last)",
      "\u001b[1;32m<ipython-input-27-901d72dd37ac>\u001b[0m in \u001b[0;36m<module>\u001b[1;34m\u001b[0m\n\u001b[1;32m----> 1\u001b[1;33m \u001b[0mitem1\u001b[0m \u001b[1;33m=\u001b[0m \u001b[0mitem\u001b[0m\u001b[1;33m.\u001b[0m\u001b[0mfind\u001b[0m\u001b[1;33m\u001b[0m\u001b[1;33m\u001b[0m\u001b[0m\n\u001b[0m\u001b[0;32m      2\u001b[0m \u001b[1;33m\u001b[0m\u001b[0m\n\u001b[0;32m      3\u001b[0m \u001b[0mitem1\u001b[0m\u001b[1;33m\u001b[0m\u001b[1;33m\u001b[0m\u001b[0m\n\u001b[0;32m      4\u001b[0m \u001b[1;33m\u001b[0m\u001b[0m\n",
      "\u001b[1;31mNameError\u001b[0m: name 'item' is not defined"
     ]
    }
   ],
   "source": [
    "item1 = item.find\n",
    "\n",
    "item1\n",
    "\n"
   ]
  },
  {
   "cell_type": "code",
   "execution_count": null,
   "metadata": {},
   "outputs": [
    {
     "data": {
      "text/plain": [
       "True"
      ]
     },
     "execution_count": 249,
     "metadata": {},
     "output_type": "execute_result"
    }
   ],
   "source": [
    "isinstance(scope_ast.expression, exp.Select)"
   ]
  },
  {
   "cell_type": "code",
   "execution_count": null,
   "metadata": {},
   "outputs": [
    {
     "name": "stdout",
     "output_type": "stream",
     "text": [
      "[(COLUMN this: \n",
      "  (IDENTIFIER this: cola, quoted: False)), (ALIAS this: \n",
      "  (COLUMN this: \n",
      "    (IDENTIFIER this: colb, quoted: False)), alias: \n",
      "  (IDENTIFIER this: newName, quoted: False))]\n"
     ]
    }
   ],
   "source": [
    "for select in scope_ast.find_all(exp.Select):\n",
    "    print(select.expressions)\n"
   ]
  }
 ],
 "metadata": {
  "kernelspec": {
   "display_name": "base",
   "language": "python",
   "name": "python3"
  },
  "language_info": {
   "codemirror_mode": {
    "name": "ipython",
    "version": 3
   },
   "file_extension": ".py",
   "mimetype": "text/x-python",
   "name": "python",
   "nbconvert_exporter": "python",
   "pygments_lexer": "ipython3",
   "version": "3.8.5"
  }
 },
 "nbformat": 4,
 "nbformat_minor": 2
}

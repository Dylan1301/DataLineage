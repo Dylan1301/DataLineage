{
 "cells": [
  {
   "cell_type": "code",
   "execution_count": 117,
   "metadata": {},
   "outputs": [],
   "source": [
    "from sqlglot import parse_one, exp\n",
    "from sqlglot.optimizer.scope import *"
   ]
  },
  {
   "cell_type": "code",
   "execution_count": 118,
   "metadata": {},
   "outputs": [],
   "source": [
    "\n",
    "\n",
    "for a in traverse_scope(object):\n",
    "    print(a.sources)"
   ]
  },
  {
   "cell_type": "code",
   "execution_count": 119,
   "metadata": {},
   "outputs": [
    {
     "name": "stdout",
     "output_type": "stream",
     "text": [
      "<class 'object'>\n"
     ]
    }
   ],
   "source": [
    "print(repr(object))"
   ]
  },
  {
   "cell_type": "code",
   "execution_count": 121,
   "metadata": {},
   "outputs": [
    {
     "ename": "NameError",
     "evalue": "name 'ast_2' is not defined",
     "output_type": "error",
     "traceback": [
      "\u001b[1;31m---------------------------------------------------------------------------\u001b[0m",
      "\u001b[1;31mNameError\u001b[0m                                 Traceback (most recent call last)",
      "\u001b[1;32m<ipython-input-121-5d53026cb29a>\u001b[0m in \u001b[0;36m<module>\u001b[1;34m\u001b[0m\n\u001b[1;32m----> 1\u001b[1;33m \u001b[0mprint\u001b[0m\u001b[1;33m(\u001b[0m\u001b[0mrepr\u001b[0m\u001b[1;33m(\u001b[0m\u001b[0mast_2\u001b[0m\u001b[1;33m)\u001b[0m\u001b[1;33m)\u001b[0m\u001b[1;33m\u001b[0m\u001b[1;33m\u001b[0m\u001b[0m\n\u001b[0m",
      "\u001b[1;31mNameError\u001b[0m: name 'ast_2' is not defined"
     ]
    }
   ],
   "source": [
    "print(repr(ast_2))"
   ]
  },
  {
   "cell_type": "code",
   "execution_count": 122,
   "metadata": {},
   "outputs": [],
   "source": [
    "ast_2 = build_scope(parse_one(\"\"\"\n",
    "                              \n",
    "\n",
    "\n",
    "SELECT colA, colb FROM table t\n",
    "\n",
    "  inner join (select id from tablea) a\n",
    "                              on t.id  = a.id\n",
    "                              \n",
    "                               WHERE cola <> 1\n",
    "\n",
    "\n",
    "\"\"\"))"
   ]
  },
  {
   "cell_type": "code",
   "execution_count": 139,
   "metadata": {},
   "outputs": [],
   "source": [
    "object = parse_one(\"\"\"\n",
    "                   WITH CTE \n",
    "                   AS (SELECT cola as id FROM Table \n",
    "                   )\n",
    "                   \n",
    "                   SELECT cola, colb + 1  AS newName, colc as NewName2 FROM (SELECT cola as cola2, colb FROM tabled) tmp\n",
    "                   \n",
    "                   INNER JOIN CTE cte\n",
    "                   ON tmp.cola= cte.id\n",
    "                   \n",
    "                    where tmp.cola <> 'A'\n",
    "                   \n",
    "                   \n",
    "                   \"\"\")\n"
   ]
  },
  {
   "cell_type": "code",
   "execution_count": 141,
   "metadata": {},
   "outputs": [
    {
     "data": {
      "text/plain": [
       "[(COLUMN this: \n",
       "   (IDENTIFIER this: cola, quoted: False)),\n",
       " (COLUMN this: \n",
       "   (IDENTIFIER this: colb, quoted: False)),\n",
       " (COLUMN this: \n",
       "   (IDENTIFIER this: colc, quoted: False))]"
      ]
     },
     "execution_count": 141,
     "metadata": {},
     "output_type": "execute_result"
    }
   ],
   "source": [
    "scope_ast.external_columns\n"
   ]
  },
  {
   "cell_type": "code",
   "execution_count": 144,
   "metadata": {},
   "outputs": [
    {
     "data": {
      "text/plain": [
       "{'kind': None,\n",
       " 'hint': None,\n",
       " 'distinct': None,\n",
       " 'expressions': [(COLUMN this: \n",
       "    (IDENTIFIER this: cola, quoted: False)),\n",
       "  (ALIAS this: \n",
       "    (COLUMN this: \n",
       "      (IDENTIFIER this: colb, quoted: False)), alias: \n",
       "    (IDENTIFIER this: newName, quoted: False)),\n",
       "  (ALIAS this: \n",
       "    (COLUMN this: \n",
       "      (IDENTIFIER this: colc, quoted: False)), alias: \n",
       "    (IDENTIFIER this: NewName2, quoted: False))],\n",
       " 'limit': None,\n",
       " 'from': (FROM this: \n",
       "   (SUBQUERY this: \n",
       "     (SELECT expressions: \n",
       "       (ALIAS this: \n",
       "         (COLUMN this: \n",
       "           (IDENTIFIER this: cola, quoted: False)), alias: \n",
       "         (IDENTIFIER this: cola2, quoted: False)), \n",
       "       (COLUMN this: \n",
       "         (IDENTIFIER this: colb, quoted: False)), from: \n",
       "       (FROM this: \n",
       "         (TABLE this: \n",
       "           (IDENTIFIER this: tabled, quoted: False)))), alias: \n",
       "     (TABLEALIAS this: \n",
       "       (IDENTIFIER this: tmp, quoted: False)))),\n",
       " 'joins': [(JOIN this: \n",
       "    (TABLE this: \n",
       "      (IDENTIFIER this: CTE, quoted: False), alias: \n",
       "      (TABLEALIAS this: \n",
       "        (IDENTIFIER this: cte, quoted: False))), kind: INNER, on: \n",
       "    (EQ this: \n",
       "      (COLUMN this: \n",
       "        (IDENTIFIER this: cola, quoted: False), table: \n",
       "        (IDENTIFIER this: tmp, quoted: False)), expression: \n",
       "      (COLUMN this: \n",
       "        (IDENTIFIER this: id, quoted: False), table: \n",
       "        (IDENTIFIER this: cte, quoted: False))))],\n",
       " 'where': (WHERE this: \n",
       "   (NEQ this: \n",
       "     (COLUMN this: \n",
       "       (IDENTIFIER this: cola, quoted: False), table: \n",
       "       (IDENTIFIER this: tmp, quoted: False)), expression: \n",
       "     (LITERAL this: A, is_string: True))),\n",
       " 'with': (WITH expressions: \n",
       "   (CTE this: \n",
       "     (SELECT expressions: \n",
       "       (ALIAS this: \n",
       "         (COLUMN this: \n",
       "           (IDENTIFIER this: cola, quoted: False)), alias: \n",
       "         (IDENTIFIER this: id, quoted: False)), from: \n",
       "       (FROM this: \n",
       "         (TABLE this: \n",
       "           (IDENTIFIER this: Table, quoted: False)))), alias: \n",
       "     (TABLEALIAS this: \n",
       "       (IDENTIFIER this: CTE, quoted: False))))}"
      ]
     },
     "execution_count": 144,
     "metadata": {},
     "output_type": "execute_result"
    }
   ],
   "source": []
  },
  {
   "cell_type": "code",
   "execution_count": null,
   "metadata": {},
   "outputs": [],
   "source": [
    "\n",
    "list(find_all_in_scope(scope_ast, exp.Alias))"
   ]
  },
  {
   "cell_type": "code",
   "execution_count": 124,
   "metadata": {},
   "outputs": [],
   "source": [
    "scope_ast = build_scope(object)"
   ]
  },
  {
   "cell_type": "code",
   "execution_count": 125,
   "metadata": {},
   "outputs": [
    {
     "data": {
      "text/plain": [
       "(COLUMN this: \n",
       "  (IDENTIFIER this: colb, quoted: False))"
      ]
     },
     "execution_count": 125,
     "metadata": {},
     "output_type": "execute_result"
    }
   ],
   "source": [
    "\n",
    "scope_ast.unqualified_columns[1]"
   ]
  },
  {
   "cell_type": "code",
   "execution_count": 126,
   "metadata": {},
   "outputs": [
    {
     "data": {
      "text/plain": [
       "[]"
      ]
     },
     "execution_count": 126,
     "metadata": {},
     "output_type": "execute_result"
    }
   ],
   "source": [
    "scope_ast.join_hints"
   ]
  },
  {
   "cell_type": "code",
   "execution_count": 131,
   "metadata": {},
   "outputs": [],
   "source": [
    "item = list(find_all_in_scope(scope_ast, exp.Alias))[0]\n",
    "item2  = scope_ast.external_columns[1]"
   ]
  },
  {
   "cell_type": "code",
   "execution_count": 138,
   "metadata": {},
   "outputs": [
    {
     "data": {
      "text/plain": [
       "<bound method Expression.find of (ALIAS this: \n",
       "  (COLUMN this: \n",
       "    (IDENTIFIER this: colb, quoted: False)), alias: \n",
       "  (IDENTIFIER this: newName, quoted: False))>"
      ]
     },
     "execution_count": 138,
     "metadata": {},
     "output_type": "execute_result"
    }
   ],
   "source": [
    "item1 = item.find\n",
    "\n",
    "item1\n",
    "\n"
   ]
  },
  {
   "cell_type": "code",
   "execution_count": 249,
   "metadata": {},
   "outputs": [
    {
     "data": {
      "text/plain": [
       "True"
      ]
     },
     "execution_count": 249,
     "metadata": {},
     "output_type": "execute_result"
    }
   ],
   "source": [
    "isinstance(scope_ast.expression, exp.Select)"
   ]
  },
  {
   "cell_type": "code",
   "execution_count": 170,
   "metadata": {},
   "outputs": [
    {
     "name": "stdout",
     "output_type": "stream",
     "text": [
      "[(COLUMN this: \n",
      "  (IDENTIFIER this: cola, quoted: False)), (ALIAS this: \n",
      "  (COLUMN this: \n",
      "    (IDENTIFIER this: colb, quoted: False)), alias: \n",
      "  (IDENTIFIER this: newName, quoted: False))]\n"
     ]
    }
   ],
   "source": [
    "for select in scope_ast.find_all(exp.Select):\n",
    "    print(select.expressions)\n"
   ]
  }
 ],
 "metadata": {
  "kernelspec": {
   "display_name": "base",
   "language": "python",
   "name": "python3"
  },
  "language_info": {
   "codemirror_mode": {
    "name": "ipython",
    "version": 3
   },
   "file_extension": ".py",
   "mimetype": "text/x-python",
   "name": "python",
   "nbconvert_exporter": "python",
   "pygments_lexer": "ipython3",
   "version": "3.8.5"
  }
 },
 "nbformat": 4,
 "nbformat_minor": 2
}
